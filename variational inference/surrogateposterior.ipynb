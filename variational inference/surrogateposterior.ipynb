{
  "nbformat": 4,
  "nbformat_minor": 0,
  "metadata": {
    "colab": {
      "provenance": [],
      "gpuType": "T4"
    },
    "kernelspec": {
      "name": "python3",
      "display_name": "Python 3"
    },
    "language_info": {
      "name": "python"
    },
    "accelerator": "GPU"
  },
  "cells": [
    {
      "cell_type": "code",
      "source": [
        "!pip install silence_tensorflow"
      ],
      "metadata": {
        "colab": {
          "base_uri": "https://localhost:8080/"
        },
        "id": "7waRK9EhyiDC",
        "outputId": "24edbb0a-2088-45a7-8163-ed940b84f042"
      },
      "execution_count": 2,
      "outputs": [
        {
          "output_type": "stream",
          "name": "stdout",
          "text": [
            "Collecting silence_tensorflow\n",
            "  Downloading silence_tensorflow-1.2.1.tar.gz (3.8 kB)\n",
            "  Preparing metadata (setup.py) ... \u001b[?25l\u001b[?25hdone\n",
            "Collecting support_developer (from silence_tensorflow)\n",
            "  Downloading support_developer-1.0.5.tar.gz (4.9 kB)\n",
            "  Preparing metadata (setup.py) ... \u001b[?25l\u001b[?25hdone\n",
            "Building wheels for collected packages: silence_tensorflow, support_developer\n",
            "  Building wheel for silence_tensorflow (setup.py) ... \u001b[?25l\u001b[?25hdone\n",
            "  Created wheel for silence_tensorflow: filename=silence_tensorflow-1.2.1-py3-none-any.whl size=4465 sha256=ee676ea8556b955425805943f99e7e3b550ddf7e211f0a6303c7d3c8a0a0245d\n",
            "  Stored in directory: /root/.cache/pip/wheels/7d/2c/24/e130d6102c0df56631b9db7479d9a6a53c5d97fb06b5f61b98\n",
            "  Building wheel for support_developer (setup.py) ... \u001b[?25l\u001b[?25hdone\n",
            "  Created wheel for support_developer: filename=support_developer-1.0.5-py3-none-any.whl size=5630 sha256=c959ddb39e39aa0fc7ac2a0548dc801dfbf3144e2f21da633aeee4a36d4c8331\n",
            "  Stored in directory: /root/.cache/pip/wheels/b6/72/c8/3054a5897ba0713dfa7a941364d68cbd42b0755c8e2ec1c18c\n",
            "Successfully built silence_tensorflow support_developer\n",
            "Installing collected packages: support_developer, silence_tensorflow\n",
            "Successfully installed silence_tensorflow-1.2.1 support_developer-1.0.5\n"
          ]
        }
      ]
    },
    {
      "cell_type": "code",
      "execution_count": 3,
      "metadata": {
        "id": "XUdTcbJ3yKcI"
      },
      "outputs": [],
      "source": [
        "from silence_tensorflow import auto\n",
        "import tensorflow as tf\n",
        "import tensorflow_probability as tfp\n",
        "import matplotlib.pyplot as plt\n"
      ]
    },
    {
      "cell_type": "code",
      "source": [
        "tfd = tfp.distributions"
      ],
      "metadata": {
        "id": "2RSO8T2lyghs"
      },
      "execution_count": 5,
      "outputs": []
    },
    {
      "cell_type": "code",
      "source": [
        "plt.ion()"
      ],
      "metadata": {
        "colab": {
          "base_uri": "https://localhost:8080/"
        },
        "id": "0psxe37Cytss",
        "outputId": "5ad08a77-c490-4d7e-f5d3-8d8e522e11a4"
      },
      "execution_count": 6,
      "outputs": [
        {
          "output_type": "execute_result",
          "data": {
            "text/plain": [
              "<contextlib.ExitStack at 0x79951066e770>"
            ]
          },
          "metadata": {},
          "execution_count": 6
        }
      ]
    },
    {
      "cell_type": "code",
      "source": [
        "def exponential_normal_model(lamb, sigma):\n",
        "  Z = yield tfd.JointDistributionCoroutine.Root(\n",
        "      tfd.Exponential(\n",
        "          rate=lamb,\n",
        "          force_probs_to_zero_outside_support = True,\n",
        "          name = \"latent_mu\"\n",
        "      )\n",
        "  )\n",
        "\n",
        "  X = yield tfd.Normal(\n",
        "      loc = Z,\n",
        "      scale = sigma,\n",
        "      name = \"observed\",\n",
        "  )"
      ],
      "metadata": {
        "id": "ea3ouTWyyyvl"
      },
      "execution_count": 10,
      "outputs": []
    },
    {
      "cell_type": "code",
      "source": [
        "joint_pdf = tfd.JointDistributionCoroutine(\n",
        "    lambda : exponential_normal_model(lamb = 1.0, sigma = 1.0)\n",
        ")"
      ],
      "metadata": {
        "id": "m82vmh-nzgGu"
      },
      "execution_count": 11,
      "outputs": []
    },
    {
      "cell_type": "code",
      "source": [
        "joint_pdf"
      ],
      "metadata": {
        "colab": {
          "base_uri": "https://localhost:8080/"
        },
        "id": "1ZIBWY_Zzwjx",
        "outputId": "41ab7daa-b8ce-4431-81c8-17aa5e92bf25"
      },
      "execution_count": 12,
      "outputs": [
        {
          "output_type": "execute_result",
          "data": {
            "text/plain": [
              "<tfp.distributions.JointDistributionCoroutine 'JointDistributionCoroutine' batch_shape=StructTuple(\n",
              "  latent_mu=[],\n",
              "  observed=[]\n",
              ") event_shape=StructTuple(\n",
              "  latent_mu=[],\n",
              "  observed=[]\n",
              ") dtype=StructTuple(\n",
              "  latent_mu=float32,\n",
              "  observed=float32\n",
              ")>"
            ]
          },
          "metadata": {},
          "execution_count": 12
        }
      ]
    },
    {
      "cell_type": "code",
      "source": [
        "joint_pdf.sample()"
      ],
      "metadata": {
        "colab": {
          "base_uri": "https://localhost:8080/"
        },
        "id": "JcUuPEBAzyuF",
        "outputId": "b2d8c8d2-e51a-453b-c1dc-2af389b8998b"
      },
      "execution_count": 13,
      "outputs": [
        {
          "output_type": "execute_result",
          "data": {
            "text/plain": [
              "StructTuple(\n",
              "  latent_mu=<tf.Tensor: shape=(), dtype=float32, numpy=0.6020125>,\n",
              "  observed=<tf.Tensor: shape=(), dtype=float32, numpy=0.8797139>\n",
              ")"
            ]
          },
          "metadata": {},
          "execution_count": 13
        }
      ]
    },
    {
      "cell_type": "code",
      "source": [
        "observed_data_point = 1.5"
      ],
      "metadata": {
        "id": "_-eoU37S0DPQ"
      },
      "execution_count": 14,
      "outputs": []
    },
    {
      "cell_type": "code",
      "source": [
        "observed_data_point = 1.3"
      ],
      "metadata": {
        "id": "Vd-y0_Gl0J5y"
      },
      "execution_count": 15,
      "outputs": []
    },
    {
      "cell_type": "code",
      "source": [
        "joint_fixed_to_data = lambda Z:joint_pdf.prob(Z, observed_data_point)"
      ],
      "metadata": {
        "id": "RdiNQVji0MVM"
      },
      "execution_count": 16,
      "outputs": []
    },
    {
      "cell_type": "code",
      "source": [
        "joint_fixed_to_data(2.0)"
      ],
      "metadata": {
        "colab": {
          "base_uri": "https://localhost:8080/"
        },
        "id": "U06p3sMb0Xq3",
        "outputId": "bd6e6924-7f68-4a74-9e55-f9d66179fe45"
      },
      "execution_count": 17,
      "outputs": [
        {
          "output_type": "execute_result",
          "data": {
            "text/plain": [
              "<tf.Tensor: shape=(), dtype=float32, numpy=0.042258956>"
            ]
          },
          "metadata": {},
          "execution_count": 17
        }
      ]
    },
    {
      "cell_type": "code",
      "source": [
        "joint_fixed_to_data(0)"
      ],
      "metadata": {
        "colab": {
          "base_uri": "https://localhost:8080/"
        },
        "id": "OxGdfAvI0aGL",
        "outputId": "896db896-b769-46b7-8e02-69eb878e9053"
      },
      "execution_count": 18,
      "outputs": [
        {
          "output_type": "execute_result",
          "data": {
            "text/plain": [
              "<tf.Tensor: shape=(), dtype=float32, numpy=0.17136852>"
            ]
          },
          "metadata": {},
          "execution_count": 18
        }
      ]
    },
    {
      "cell_type": "code",
      "source": [
        "Z_range = tf.cast(tf.linspace(-5,5,1000), tf.float32)"
      ],
      "metadata": {
        "id": "gqIg9dBk0gqu"
      },
      "execution_count": 20,
      "outputs": []
    },
    {
      "cell_type": "code",
      "source": [
        "prob_range = joint_fixed_to_data(Z_range)"
      ],
      "metadata": {
        "id": "50vqjQ1-0oUq"
      },
      "execution_count": 21,
      "outputs": []
    },
    {
      "cell_type": "code",
      "source": [
        "plt.plot(prob_range)"
      ],
      "metadata": {
        "colab": {
          "base_uri": "https://localhost:8080/",
          "height": 448
        },
        "id": "0MjcPXKr0z-X",
        "outputId": "167da08d-0cd8-40da-cb95-eb6fba520c31"
      },
      "execution_count": 22,
      "outputs": [
        {
          "output_type": "execute_result",
          "data": {
            "text/plain": [
              "[<matplotlib.lines.Line2D at 0x79949c409510>]"
            ]
          },
          "metadata": {},
          "execution_count": 22
        },
        {
          "output_type": "display_data",
          "data": {
            "text/plain": [
              "<Figure size 640x480 with 1 Axes>"
            ],
            "image/png": "[encoded data removed]"
          },
          "metadata": {}
        }
      ]
    },
    {
      "cell_type": "code",
      "source": [
        "from scipy import integrate"
      ],
      "metadata": {
        "id": "crkf0OLs012h"
      },
      "execution_count": 23,
      "outputs": []
    },
    {
      "cell_type": "code",
      "source": [
        "integrate.trapezoid(x=Z_range, y=prob_range)"
      ],
      "metadata": {
        "colab": {
          "base_uri": "https://localhost:8080/"
        },
        "id": "PIQXz0oM09hu",
        "outputId": "72b42788-6224-4e1b-f9ad-953a0da2453b"
      },
      "execution_count": 24,
      "outputs": [
        {
          "output_type": "execute_result",
          "data": {
            "text/plain": [
              "0.27764502"
            ]
          },
          "metadata": {},
          "execution_count": 24
        }
      ]
    },
    {
      "cell_type": "code",
      "source": [
        "optimal_surrogate_parameter = -(observed_data_point-1)/2 + tf.sqrt((observed_data_point-1)**2/4 +2)"
      ],
      "metadata": {
        "id": "oaaWx4J-1DdG"
      },
      "execution_count": 25,
      "outputs": []
    },
    {
      "cell_type": "code",
      "source": [
        "optimal_surrogate_parameter"
      ],
      "metadata": {
        "colab": {
          "base_uri": "https://localhost:8080/"
        },
        "id": "EmLy0Z4v1dv9",
        "outputId": "32aea454-2d8d-42f0-b508-513e72d076b7"
      },
      "execution_count": 26,
      "outputs": [
        {
          "output_type": "execute_result",
          "data": {
            "text/plain": [
              "<tf.Tensor: shape=(), dtype=float32, numpy=1.2721463>"
            ]
          },
          "metadata": {},
          "execution_count": 26
        }
      ]
    },
    {
      "cell_type": "code",
      "source": [
        "surrogate_posterior = tfd.Exponential(rate = optimal_surrogate_parameter)"
      ],
      "metadata": {
        "id": "Sd4vhLmm1guY"
      },
      "execution_count": 27,
      "outputs": []
    },
    {
      "cell_type": "code",
      "source": [
        "surrogate_prob_range = surrogate_posterior.prob(Z_range)"
      ],
      "metadata": {
        "id": "mAJDb79l1syO"
      },
      "execution_count": 28,
      "outputs": []
    },
    {
      "cell_type": "code",
      "source": [
        "plt.plot(Z_range, surrogate_prob_range)"
      ],
      "metadata": {
        "colab": {
          "base_uri": "https://localhost:8080/",
          "height": 448
        },
        "id": "tEoUxx0i114Y",
        "outputId": "cf293fcc-5621-4ba2-cbc1-f4be22a3fb88"
      },
      "execution_count": 29,
      "outputs": [
        {
          "output_type": "execute_result",
          "data": {
            "text/plain": [
              "[<matplotlib.lines.Line2D at 0x79949c212710>]"
            ]
          },
          "metadata": {},
          "execution_count": 29
        },
        {
          "output_type": "display_data",
          "data": {
            "text/plain": [
              "<Figure size 640x480 with 1 Axes>"
            ],
            "image/png": "[encoded data removed]"
          },
          "metadata": {}
        }
      ]
    },
    {
      "cell_type": "code",
      "source": [
        "surrogate_posterior = tfd.Exponential(rate = optimal_surrogate_parameter, force_probs_to_zero_outside_support=True)"
      ],
      "metadata": {
        "id": "VKSQtraO2H83"
      },
      "execution_count": 30,
      "outputs": []
    },
    {
      "cell_type": "code",
      "source": [
        "surrogate_prob_range = surrogate_posterior.prob(Z_range)"
      ],
      "metadata": {
        "id": "wy1WlAqn2ewG"
      },
      "execution_count": 31,
      "outputs": []
    },
    {
      "cell_type": "code",
      "source": [
        "plt.clf()"
      ],
      "metadata": {
        "colab": {
          "base_uri": "https://localhost:8080/",
          "height": 35
        },
        "id": "tWLOSGRj2kwC",
        "outputId": "1e6631b4-e2cc-4ce2-bcab-57f679734bab"
      },
      "execution_count": 32,
      "outputs": [
        {
          "output_type": "display_data",
          "data": {
            "text/plain": [
              "<Figure size 640x480 with 0 Axes>"
            ]
          },
          "metadata": {}
        }
      ]
    },
    {
      "cell_type": "code",
      "source": [
        "plt.plot(Z_range, prob_range)\n",
        "plt.plot(Z_range, surrogate_prob_range)"
      ],
      "metadata": {
        "colab": {
          "base_uri": "https://localhost:8080/",
          "height": 448
        },
        "id": "eg6EH8J-2mbl",
        "outputId": "eb1ec423-507a-4785-fb15-c010828381f3"
      },
      "execution_count": 35,
      "outputs": [
        {
          "output_type": "execute_result",
          "data": {
            "text/plain": [
              "[<matplotlib.lines.Line2D at 0x79948d7f5060>]"
            ]
          },
          "metadata": {},
          "execution_count": 35
        },
        {
          "output_type": "display_data",
          "data": {
            "text/plain": [
              "<Figure size 640x480 with 1 Axes>"
            ],
            "image/png": "[encoded data removed]"
          },
          "metadata": {}
        }
      ]
    },
    {
      "cell_type": "code",
      "source": [],
      "metadata": {
        "id": "gpzc5fRw2wjh"
      },
      "execution_count": null,
      "outputs": []
    }
  ]
}